{
 "cells": [
  {
   "cell_type": "code",
   "execution_count": null,
   "metadata": {},
   "outputs": [],
   "source": [
    "import cv2\n",
    "img = cv2.imread(r\"C:\\Users\\ryans\\Pictures\\text.jpg\", cv2.IMREAD_UNCHANGED)\n",
    "img_gray=cv2.cvtColor(img,cv2.COLOR_RGB2GRAY)\n",
    "img_hsv=cv2.cvtColor(img,cv2.COLOR_RGB2HSV)\n",
    "re=cv2.resize(img,(500,500))\n",
    "print(\"Original image size : \",img.size)\n",
    "print(\"Resized Image size :\",re.size)\n",
    "cv2.imshow(\"Resized\",re)\n",
    "cv2.imshow(\"Grayscale \",img_gray)\n",
    "cv2.imshow(\"HSV\",img_hsv)\n",
    "cv2.waitKey(0)\n",
    "cv2.destroyAllWindows()\n",
    "\n",
    "ret,thre=cv2.threshold(img_gray,150,255,cv2.THRESH_OTSU)\n",
    "ret,thre1=cv2.threshold(img_gray,150,255,cv2.THRESH_BINARY)\n",
    "ret,thre2=cv2.threshold(img_gray,150,255,cv2.THRESH_BINARY_INV)\n",
    "ret,thre3=cv2.threshold(img_gray,150,255,cv2.THRESH_TOZERO)\n",
    "\n",
    "adap_thre=cv2.adaptiveThreshold(img_gray,255,cv2.ADAPTIVE_THRESH_MEAN_C,cv2.THRESH_BINARY,5,3)\n",
    "adap_thre2=cv2.adaptiveThreshold(img_gray,255,cv2.ADAPTIVE_THRESH_GAUSSIAN_C,cv2.THRESH_BINARY,7,7)\n",
    "cv2.imshow(\"bin\",thre1)\n",
    "cv2.imshow(\"otsu\",thre)\n",
    "cv2.imshow(\"binv\",thre2)\n",
    "cv2.imshow(\"zero\",thre3)\n",
    "cv2.imshow(\"ada1\",adap_thre)\n",
    "cv2.imshow(\"ada2\",adap_thre2)\n",
    "cv2.waitKey(0)\n",
    "cv2.destroyAllWindows() "
   ]
  }
 ],
 "metadata": {
  "kernelspec": {
   "display_name": "Python 3",
   "language": "python",
   "name": "python3"
  },
  "language_info": {
   "codemirror_mode": {
    "name": "ipython",
    "version": 3
   },
   "file_extension": ".py",
   "mimetype": "text/x-python",
   "name": "python",
   "nbconvert_exporter": "python",
   "pygments_lexer": "ipython3",
   "version": "3.7.4"
  }
 },
 "nbformat": 4,
 "nbformat_minor": 2
}