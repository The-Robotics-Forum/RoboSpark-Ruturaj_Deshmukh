{
 "cells": [
  {
   "cell_type": "code",
   "execution_count": 6,
   "metadata": {},
   "outputs": [],
   "source": [
    "import pandas as pd"
   ]
  },
  {
   "cell_type": "code",
   "execution_count": 9,
   "metadata": {},
   "outputs": [],
   "source": [
    "df=pd.read_csv(\"b.csv\")"
   ]
  },
  {
   "cell_type": "code",
   "execution_count": 10,
   "metadata": {},
   "outputs": [
    {
     "data": {
      "text/html": [
       "<div>\n",
       "<style scoped>\n",
       "    .dataframe tbody tr th:only-of-type {\n",
       "        vertical-align: middle;\n",
       "    }\n",
       "\n",
       "    .dataframe tbody tr th {\n",
       "        vertical-align: top;\n",
       "    }\n",
       "\n",
       "    .dataframe thead th {\n",
       "        text-align: right;\n",
       "    }\n",
       "</style>\n",
       "<table border=\"1\" class=\"dataframe\">\n",
       "  <thead>\n",
       "    <tr style=\"text-align: right;\">\n",
       "      <th></th>\n",
       "      <th>index</th>\n",
       "      <th>date</th>\n",
       "      <th>time</th>\n",
       "      <th>open</th>\n",
       "      <th>high</th>\n",
       "      <th>low</th>\n",
       "      <th>close</th>\n",
       "    </tr>\n",
       "  </thead>\n",
       "  <tbody>\n",
       "    <tr>\n",
       "      <th>367570</th>\n",
       "      <td>BANKNIFTY</td>\n",
       "      <td>20160930</td>\n",
       "      <td>15:26</td>\n",
       "      <td>19321.00</td>\n",
       "      <td>19322.80</td>\n",
       "      <td>19314.25</td>\n",
       "      <td>19318.35</td>\n",
       "    </tr>\n",
       "    <tr>\n",
       "      <th>367571</th>\n",
       "      <td>BANKNIFTY</td>\n",
       "      <td>20160930</td>\n",
       "      <td>15:27</td>\n",
       "      <td>19318.80</td>\n",
       "      <td>19322.20</td>\n",
       "      <td>19312.30</td>\n",
       "      <td>19317.40</td>\n",
       "    </tr>\n",
       "    <tr>\n",
       "      <th>367572</th>\n",
       "      <td>BANKNIFTY</td>\n",
       "      <td>20160930</td>\n",
       "      <td>15:28</td>\n",
       "      <td>19317.55</td>\n",
       "      <td>19323.40</td>\n",
       "      <td>19314.45</td>\n",
       "      <td>19315.95</td>\n",
       "    </tr>\n",
       "    <tr>\n",
       "      <th>367573</th>\n",
       "      <td>BANKNIFTY</td>\n",
       "      <td>20160930</td>\n",
       "      <td>15:29</td>\n",
       "      <td>19315.80</td>\n",
       "      <td>19324.20</td>\n",
       "      <td>19312.00</td>\n",
       "      <td>19314.10</td>\n",
       "    </tr>\n",
       "    <tr>\n",
       "      <th>367574</th>\n",
       "      <td>BANKNIFTY</td>\n",
       "      <td>20160930</td>\n",
       "      <td>15:30</td>\n",
       "      <td>19313.60</td>\n",
       "      <td>19330.85</td>\n",
       "      <td>19311.20</td>\n",
       "      <td>19323.20</td>\n",
       "    </tr>\n",
       "  </tbody>\n",
       "</table>\n",
       "</div>"
      ],
      "text/plain": [
       "            index      date   time      open      high       low     close\n",
       "367570  BANKNIFTY  20160930  15:26  19321.00  19322.80  19314.25  19318.35\n",
       "367571  BANKNIFTY  20160930  15:27  19318.80  19322.20  19312.30  19317.40\n",
       "367572  BANKNIFTY  20160930  15:28  19317.55  19323.40  19314.45  19315.95\n",
       "367573  BANKNIFTY  20160930  15:29  19315.80  19324.20  19312.00  19314.10\n",
       "367574  BANKNIFTY  20160930  15:30  19313.60  19330.85  19311.20  19323.20"
      ]
     },
     "execution_count": 10,
     "metadata": {},
     "output_type": "execute_result"
    }
   ],
   "source": [
    "df.tail()"
   ]
  },
  {
   "cell_type": "code",
   "execution_count": 13,
   "metadata": {},
   "outputs": [
    {
     "data": {
      "text/plain": [
       "0         12125.70\n",
       "1         12161.75\n",
       "2         12126.85\n",
       "3         12157.25\n",
       "4         12162.80\n",
       "            ...   \n",
       "367570    19321.00\n",
       "367571    19318.80\n",
       "367572    19317.55\n",
       "367573    19315.80\n",
       "367574    19313.60\n",
       "Name: open, Length: 367575, dtype: float64"
      ]
     },
     "execution_count": 13,
     "metadata": {},
     "output_type": "execute_result"
    }
   ],
   "source": [
    "df.open"
   ]
  },
  {
   "cell_type": "code",
   "execution_count": 14,
   "metadata": {},
   "outputs": [
    {
     "data": {
      "text/html": [
       "<div>\n",
       "<style scoped>\n",
       "    .dataframe tbody tr th:only-of-type {\n",
       "        vertical-align: middle;\n",
       "    }\n",
       "\n",
       "    .dataframe tbody tr th {\n",
       "        vertical-align: top;\n",
       "    }\n",
       "\n",
       "    .dataframe thead th {\n",
       "        text-align: right;\n",
       "    }\n",
       "</style>\n",
       "<table border=\"1\" class=\"dataframe\">\n",
       "  <thead>\n",
       "    <tr style=\"text-align: right;\">\n",
       "      <th></th>\n",
       "      <th>date</th>\n",
       "      <th>open</th>\n",
       "      <th>high</th>\n",
       "      <th>low</th>\n",
       "      <th>close</th>\n",
       "    </tr>\n",
       "  </thead>\n",
       "  <tbody>\n",
       "    <tr>\n",
       "      <th>count</th>\n",
       "      <td>3.675750e+05</td>\n",
       "      <td>367575.000000</td>\n",
       "      <td>367575.000000</td>\n",
       "      <td>367575.000000</td>\n",
       "      <td>367575.000000</td>\n",
       "    </tr>\n",
       "    <tr>\n",
       "      <th>mean</th>\n",
       "      <td>2.014401e+07</td>\n",
       "      <td>15078.023296</td>\n",
       "      <td>15082.498465</td>\n",
       "      <td>15073.480983</td>\n",
       "      <td>15077.993028</td>\n",
       "    </tr>\n",
       "    <tr>\n",
       "      <th>std</th>\n",
       "      <td>1.169302e+04</td>\n",
       "      <td>3184.438089</td>\n",
       "      <td>3185.213591</td>\n",
       "      <td>3183.628315</td>\n",
       "      <td>3184.411825</td>\n",
       "    </tr>\n",
       "    <tr>\n",
       "      <th>min</th>\n",
       "      <td>2.012110e+07</td>\n",
       "      <td>1405.050000</td>\n",
       "      <td>1407.050000</td>\n",
       "      <td>1404.600000</td>\n",
       "      <td>1405.200000</td>\n",
       "    </tr>\n",
       "    <tr>\n",
       "      <th>25%</th>\n",
       "      <td>2.013103e+07</td>\n",
       "      <td>12092.200000</td>\n",
       "      <td>12095.000000</td>\n",
       "      <td>12089.150000</td>\n",
       "      <td>12092.175000</td>\n",
       "    </tr>\n",
       "    <tr>\n",
       "      <th>50%</th>\n",
       "      <td>2.014110e+07</td>\n",
       "      <td>15526.100000</td>\n",
       "      <td>15531.200000</td>\n",
       "      <td>15521.400000</td>\n",
       "      <td>15525.950000</td>\n",
       "    </tr>\n",
       "    <tr>\n",
       "      <th>75%</th>\n",
       "      <td>2.015103e+07</td>\n",
       "      <td>17956.050000</td>\n",
       "      <td>17960.550000</td>\n",
       "      <td>17951.100000</td>\n",
       "      <td>17955.800000</td>\n",
       "    </tr>\n",
       "    <tr>\n",
       "      <th>max</th>\n",
       "      <td>2.016093e+07</td>\n",
       "      <td>20903.950000</td>\n",
       "      <td>20907.550000</td>\n",
       "      <td>20899.250000</td>\n",
       "      <td>20907.550000</td>\n",
       "    </tr>\n",
       "  </tbody>\n",
       "</table>\n",
       "</div>"
      ],
      "text/plain": [
       "               date           open           high            low  \\\n",
       "count  3.675750e+05  367575.000000  367575.000000  367575.000000   \n",
       "mean   2.014401e+07   15078.023296   15082.498465   15073.480983   \n",
       "std    1.169302e+04    3184.438089    3185.213591    3183.628315   \n",
       "min    2.012110e+07    1405.050000    1407.050000    1404.600000   \n",
       "25%    2.013103e+07   12092.200000   12095.000000   12089.150000   \n",
       "50%    2.014110e+07   15526.100000   15531.200000   15521.400000   \n",
       "75%    2.015103e+07   17956.050000   17960.550000   17951.100000   \n",
       "max    2.016093e+07   20903.950000   20907.550000   20899.250000   \n",
       "\n",
       "               close  \n",
       "count  367575.000000  \n",
       "mean    15077.993028  \n",
       "std      3184.411825  \n",
       "min      1405.200000  \n",
       "25%     12092.175000  \n",
       "50%     15525.950000  \n",
       "75%     17955.800000  \n",
       "max     20907.550000  "
      ]
     },
     "execution_count": 14,
     "metadata": {},
     "output_type": "execute_result"
    }
   ],
   "source": [
    "df.describe()"
   ]
  },
  {
   "cell_type": "code",
   "execution_count": 18,
   "metadata": {},
   "outputs": [
    {
     "data": {
      "text/plain": [
       "0         09:16\n",
       "1         09:17\n",
       "2         09:18\n",
       "3         09:19\n",
       "4         09:20\n",
       "          ...  \n",
       "367570    15:26\n",
       "367571    15:27\n",
       "367572    15:28\n",
       "367573    15:29\n",
       "367574    15:30\n",
       "Name: time, Length: 367575, dtype: object"
      ]
     },
     "execution_count": 18,
     "metadata": {},
     "output_type": "execute_result"
    }
   ],
   "source": [
    "df['time']"
   ]
  },
  {
   "cell_type": "code",
   "execution_count": 16,
   "metadata": {},
   "outputs": [
    {
     "data": {
      "text/plain": [
       "Index(['index', 'date', 'time', 'open', 'high', 'low', 'close'], dtype='object')"
      ]
     },
     "execution_count": 16,
     "metadata": {},
     "output_type": "execute_result"
    }
   ],
   "source": [
    "df.columns"
   ]
  },
  {
   "cell_type": "code",
   "execution_count": 24,
   "metadata": {},
   "outputs": [
    {
     "data": {
      "text/plain": [
       "0         20121203\n",
       "1         20121203\n",
       "2         20121203\n",
       "3         20121203\n",
       "4         20121203\n",
       "            ...   \n",
       "367570    20160930\n",
       "367571    20160930\n",
       "367572    20160930\n",
       "367573    20160930\n",
       "367574    20160930\n",
       "Name: date, Length: 367575, dtype: int64"
      ]
     },
     "execution_count": 24,
     "metadata": {},
     "output_type": "execute_result"
    }
   ],
   "source": [
    "df['date']"
   ]
  },
  {
   "cell_type": "code",
   "execution_count": 21,
   "metadata": {},
   "outputs": [
    {
     "data": {
      "text/plain": [
       "0         BANKNIFTY\n",
       "1         BANKNIFTY\n",
       "2         BANKNIFTY\n",
       "3         BANKNIFTY\n",
       "4         BANKNIFTY\n",
       "            ...    \n",
       "367570    BANKNIFTY\n",
       "367571    BANKNIFTY\n",
       "367572    BANKNIFTY\n",
       "367573    BANKNIFTY\n",
       "367574    BANKNIFTY\n",
       "Name: index, Length: 367575, dtype: object"
      ]
     },
     "execution_count": 21,
     "metadata": {},
     "output_type": "execute_result"
    }
   ],
   "source": [
    "df['index']"
   ]
  },
  {
   "cell_type": "code",
   "execution_count": 25,
   "metadata": {},
   "outputs": [
    {
     "data": {
      "text/plain": [
       "0         12161.70\n",
       "1         12164.80\n",
       "2         12156.10\n",
       "3         12164.75\n",
       "4         12162.80\n",
       "            ...   \n",
       "367570    19322.80\n",
       "367571    19322.20\n",
       "367572    19323.40\n",
       "367573    19324.20\n",
       "367574    19330.85\n",
       "Name: high, Length: 367575, dtype: float64"
      ]
     },
     "execution_count": 25,
     "metadata": {},
     "output_type": "execute_result"
    }
   ],
   "source": [
    "df['high']"
   ]
  },
  {
   "cell_type": "code",
   "execution_count": 26,
   "metadata": {},
   "outputs": [
    {
     "data": {
      "text/plain": [
       "0         12125.70\n",
       "1         12130.40\n",
       "2         12126.85\n",
       "3         12151.60\n",
       "4         12148.20\n",
       "            ...   \n",
       "367570    19314.25\n",
       "367571    19312.30\n",
       "367572    19314.45\n",
       "367573    19312.00\n",
       "367574    19311.20\n",
       "Name: low, Length: 367575, dtype: float64"
      ]
     },
     "execution_count": 26,
     "metadata": {},
     "output_type": "execute_result"
    }
   ],
   "source": [
    "df['low']"
   ]
  },
  {
   "cell_type": "code",
   "execution_count": 27,
   "metadata": {},
   "outputs": [
    {
     "data": {
      "text/plain": [
       "0         12160.95\n",
       "1         12130.40\n",
       "2         12156.10\n",
       "3         12164.20\n",
       "4         12151.15\n",
       "            ...   \n",
       "367570    19318.35\n",
       "367571    19317.40\n",
       "367572    19315.95\n",
       "367573    19314.10\n",
       "367574    19323.20\n",
       "Name: close, Length: 367575, dtype: float64"
      ]
     },
     "execution_count": 27,
     "metadata": {},
     "output_type": "execute_result"
    }
   ],
   "source": [
    "df['close']"
   ]
  },
  {
   "cell_type": "code",
   "execution_count": 28,
   "metadata": {},
   "outputs": [
    {
     "data": {
      "text/plain": [
       "0         12125.70\n",
       "1         12130.40\n",
       "2         12126.85\n",
       "3         12151.60\n",
       "4         12148.20\n",
       "            ...   \n",
       "367570    19314.25\n",
       "367571    19312.30\n",
       "367572    19314.45\n",
       "367573    19312.00\n",
       "367574    19311.20\n",
       "Name: low, Length: 367575, dtype: float64"
      ]
     },
     "execution_count": 28,
     "metadata": {},
     "output_type": "execute_result"
    }
   ],
   "source": [
    "df['low']"
   ]
  },
  {
   "cell_type": "code",
   "execution_count": null,
   "metadata": {},
   "outputs": [],
   "source": []
  }
 ],
 "metadata": {
  "kernelspec": {
   "display_name": "Python 3",
   "language": "python",
   "name": "python3"
  },
  "language_info": {
   "codemirror_mode": {
    "name": "ipython",
    "version": 3
   },
   "file_extension": ".py",
   "mimetype": "text/x-python",
   "name": "python",
   "nbconvert_exporter": "python",
   "pygments_lexer": "ipython3",
   "version": "3.7.6"
  }
 },
 "nbformat": 4,
 "nbformat_minor": 4
}
